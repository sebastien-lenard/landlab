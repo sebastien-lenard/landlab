{
 "cells": [
  {
   "cell_type": "markdown",
   "id": "74f8d593-7444-40e8-9469-38dfe3453de2",
   "metadata": {
    "tags": []
   },
   "source": [
    "# Case Study: Cosmogenic production in a setting of a surface that steady uplifts\n",
    "Authors: Sebastien Lenard\n",
    "Date: 2022, June."
   ]
  },
  {
   "cell_type": "markdown",
   "id": "8a27c24b-962d-4bf8-b5b4-21b717c4084f",
   "metadata": {
    "tags": []
   },
   "source": [
    "**NB : cosmogenic is not unit agnostic !!!!**"
   ]
  },
  {
   "cell_type": "markdown",
   "id": "876932bf-7389-4990-8e64-2f14c14aec7e",
   "metadata": {
    "tags": []
   },
   "source": [
    "## Background and Motivation\n",
    "Cosmogenic nuclides \n",
    "Landscape evolution model\n",
    "\n",
    "reuse of PriorityFlood_LandscapeEvolutionModel notebook\n",
    "\n",
    "Hypothesis: all sediment is evacuated out of the landscape.\n",
    "\n",
    "We can't use the PriorityFloodFlowRouter with HexModelGrid\n",
    "FlowDirectorD8 not implemented for HexModelGrid\n",
    "\n",
    "Combining uplift function with FlowAccumulator (and DepressionFinderAndRouter) and SPACE Stream Power with Alluvium Conservation and Entrainment, more precisely SpaceLargeScaleEroder (is there really the need?)\n",
    "\n",
    "space notebook Shobe 2017 and space large scale : https://jupyter.openearthscape.org/hub/user-redirect/lab/tree/landlab-2.4.1/notebooks/tutorials/landscape_evolution/space\n",
    "Space : bedrock incision (proportional to stream power, stream power law) and sediment transport\n",
    "https://landlab.readthedocs.io/en/latest/reference/components/space.html?highlight=space%20large#landlab.components.space.space_large_scale_eroder.SpaceLargeScaleEroder\n",
    "\n",
    "diffusion of hillslope topography and incision of bedrock in fluvial channels\n",
    "\n",
    "TransportLengthHillslopeDiffuser\n",
    "https://jupyter.openearthscape.org/hub/user-redirect/lab/tree/landlab-2.4.1/notebooks/tutorials/hillslope_geomorphology/transport-length_hillslope_diffuser/TLHDiff_tutorial.ipynb\n",
    "this diffuser inspired by Carretier et al., 2016 (and Davy & Lague, 2009)\n",
    "simplification made by simple linear diffusion models is that the entire landscape is made of the same material. Supposed: sediment.\n",
    "PB : limitations to soil-mantle hillslopes ? (NB: behaviour different than the lineardiffuser)\n",
    "\n",
    "Uplift the core compared to base-level boundary nodes\n",
    "\n",
    "Why the same spatial resolution is used for discretization of hillslope processes and incision by rivers?\n",
    "\n",
    "Steady state of landscape reached when sediment flux and relief approach an equilibrium (they can't go higher)\n",
    "\n",
    "IF no diffusion: landscape directly carved in bedrock or very thin regolith\n",
    "\n"
   ]
  },
  {
   "cell_type": "markdown",
   "id": "6ce800d3-d4c8-4982-8a52-aa3b59d4dc24",
   "metadata": {
    "tags": []
   },
   "source": [
    "### Table of Contents\n",
    "1. Initialize and run the component the simplest way.\n"
   ]
  },
  {
   "cell_type": "markdown",
   "id": "e3100e27-074e-42fb-9727-f7c307fc6697",
   "metadata": {
    "tags": []
   },
   "source": [
    "We start to import all libraries required by this tutorial."
   ]
  },
  {
   "cell_type": "code",
   "execution_count": 30,
   "id": "a3bdbce8-75b2-4498-af02-4386ee452ece",
   "metadata": {},
   "outputs": [],
   "source": [
    "# Libraries for scientific computing (ndarrays) and plotting\n",
    "import numpy as np\n",
    "import matplotlib as mpl; import matplotlib.pyplot as plt\n",
    "from tqdm import tqdm # progress bar\n",
    "import time # performance testing\n",
    "\n",
    "# Landlab libraries/methods\n",
    "\n",
    "from landlab import RasterModelGrid, HexModelGrid, RadialModelGrid, VoronoiDelaunayGrid, NetworkModelGrid # Component to manage the grid\n",
    "\n",
    "from landlab.components import StreamPowerEroder, SpaceLargeScaleEroder\n",
    "# import landlab plotting functionality\n",
    "from landlab import imshowhs_grid, imshow_grid # methods for display\n",
    "from landlab.plot.drainage_plot import drainage_plot\n",
    "\n",
    "from landlab.components import FlowRouter, PriorityFloodFlowRouter # TODO>>>>>>>>>>>>> REMOVE PRIORITY\n",
    "\n",
    "\n",
    "from landlab.components import ThresholdEroder # allows chop-off of slopes above critical gradient (simplistic landslider)\n",
    "from landlab.components import CosmogenicProductionScaler, CosmogenicProducerInBedrock # cosmogenic nuclide calculations"
   ]
  },
  {
   "cell_type": "code",
   "execution_count": 18,
   "id": "3ed486a5-9b47-4d24-a999-06ee3dad0192",
   "metadata": {
    "tags": []
   },
   "outputs": [],
   "source": [
    "# Doesn't work on HexModelGrid !!!\n",
    "# create a plotting routine to make a 3d plot of our surface.\n",
    "def surf_plot(mg, surface=\"topographic__elevation\", title=\"Surface plot of topography\"):\n",
    "\n",
    "    fig = plt.figure()\n",
    "    ax = fig.gca(projection=\"3d\")\n",
    "\n",
    "    # Plot the surface.\n",
    "    Z = mg.at_node[surface].reshape(mg.shape)\n",
    "    color = cm.gray((Z - Z.min()) / (Z.max() - Z.min()))\n",
    "    surf = ax.plot_surface(\n",
    "        mg.x_of_node.reshape(mg.shape),\n",
    "        mg.y_of_node.reshape(mg.shape),\n",
    "        Z,\n",
    "        rstride=1,\n",
    "        cstride=1,\n",
    "        facecolors=color,\n",
    "        linewidth=0.0,\n",
    "        antialiased=False,\n",
    "    )\n",
    "    ax.view_init(elev=35, azim=-120)\n",
    "    ax.set_xlabel(\"X axis\")\n",
    "    ax.set_ylabel(\"Y axis\")\n",
    "    ax.set_zlabel(\"Elevation\")\n",
    "    plt.title(title)\n",
    "    plt.show()\n",
    "# surf_plot(myGrid, title=\"Grid 1\")"
   ]
  },
  {
   "cell_type": "markdown",
   "id": "af4ed3e9-faef-4993-b3e6-258566e69299",
   "metadata": {
    "tags": []
   },
   "source": [
    "## 1. Initialize the model."
   ]
  },
  {
   "cell_type": "markdown",
   "id": "102c13bd-f4ec-4b75-9df7-7f051895f30d",
   "metadata": {
    "tags": []
   },
   "source": [
    "### 1.1 Setting up the model grid.\n",
    "Create the grid. We use a hexagonal grid to make the case study easier to implement. For the hexagonal grid, giver-receiver distances are homogeneous while for the raster grid distances are heterogeneous because flow can pass through diagonals.\n",
    "\n",
    "Randomized micro-scale topographic roughness is added to the model grid. While not strictly necessary for the SPACE model to run, the micro-roughness allows flow convergence, channelization, and the development of realistic landscapes.\n",
    "\n",
    "Zero sediment or soil\n",
    "\n",
    "All boundaries are let open."
   ]
  },
  {
   "cell_type": "code",
   "execution_count": 181,
   "id": "7ec9e488-f17e-4844-8daa-478b3ba3f86e",
   "metadata": {},
   "outputs": [],
   "source": [
    "# 1. Grid generation\n",
    "# 1.1. Parameters\n",
    "####################\n",
    "n = 9 #200\n",
    "xy_spacing = (30, 30)\n",
    "\n",
    "# LEM\n",
    "denudation_rate_bedrock_mm_y = 1.e-9 # in mm/y\n",
    "\n",
    "# Run\n",
    "dt = 1000 #300 #500 #1000 #250 # timestep in y\n",
    "n_dt = 1000 #10000 #200 #200 # number of timesteps\n",
    "\n",
    "# figures\n",
    "dpi=100\n",
    "font_size = 10\n",
    "\n",
    "# Other parameters\n",
    "random_generator = np.random.Generator(np.random.PCG64(500)) # set constant random seed for \"stable\" random pull \n",
    "                                                             # for VoronoiDelaunayGrid and initial elevation\n",
    "\n",
    "# Type of grid\n",
    "model_grid = (RasterModelGrid, HexModelGrid, RadialModelGrid, VoronoiDelaunayGrid, NetworkModelGrid)[0]\n",
    "\n",
    "if model_grid == VoronoiDelaunayGrid:\n",
    "    dspacing_max = 0.25 * 30\n",
    "    from landlab.graph.hex.hex import HorizontalRectTriGraphCython\n",
    "    x, y = HorizontalRectTriGraphCython.xy_of_node(shape=(n, n), spacing=xy_spacing[0])\n",
    "    nodes_n = n * n\n",
    "    dspacing = random_generator.random(nodes_n * 2) * dspacing_max * 2 - dspacing_max\n",
    "    X = x + dspacing[:nodes_n]\n",
    "    Y = y + dspacing[nodes_n:]\n",
    "else:\n",
    "    X = np.ones(n * n)\n",
    "    Y = np.ones(n * n)\n",
    "    \n",
    "grid_param = {RasterModelGrid: {\"shape\": (n, n), #2.5 * n\n",
    "                                \"xy_spacing\": xy_spacing,\n",
    "                                \"xy_axis_units\": \"m\"},\n",
    "              HexModelGrid: {\"shape\": [(2 * n - 1, n), (n, n)][1],\n",
    "                            \"spacing\": xy_spacing[0],\n",
    "                            \"node_layout\": [\"hex\", \"rect\"][1],\n",
    "                            \"xy_axis_units\": \"m\"},\n",
    "              RadialModelGrid: {\"n_rings\": n,\n",
    "                               \"nodes_in_first_ring\": 5,\n",
    "                               \"spacing\": xy_spacing[0],\n",
    "                               \"xy_axis_units\": \"m\"},\n",
    "              VoronoiDelaunayGrid: {\"x\": X, #50\n",
    "                                    \"y\": Y, \n",
    "                                    #\"x\": np.random.rand(n * 6) * n * xy_spacing[0], #50\n",
    "                                    #\"y\": np.random.rand(n * 6) * n * xy_spacing[0], \n",
    "                                    \"xy_axis_units\": \"m\"},\n",
    "              NetworkModelGrid: {\"yx_of_node\": ((0, 100, 200, 200, 300, 400, 400, 125),\n",
    "                                               (0, 0, 100, -50, -100, 50, -150, -100)),\n",
    "                                 \"links\": ((1, 0), (2, 1), (1, 7), (3, 1), (3, 4), (4, 5), (4, 6)),\n",
    "                                 \"xy_axis_units\": \"m\"}\n",
    "             }[model_grid]\n",
    "\n",
    "\n",
    "closed_nodes = [\"one\", \"all except one\"][1] # closed boundaries\n",
    "\n",
    "random_topography = 0.0001 # range in elevation (from 0)\n",
    "\n",
    "# Parameters of the landscape evolution components\n",
    "param = {FlowRouter: \\\n",
    "             {},\n",
    "         ThresholdEroder: \\\n",
    "             {\"slope_crit\": np.tan(35 * np.pi / 180)},\n",
    "         StreamPowerEroder: \\\n",
    "             {\"n_sp\": 2,\n",
    "              \"m_sp\": 1,\n",
    "              \"K_sp\": 1e-9, # 1e-9,\n",
    "              \"discharge_field\": [\"drainage_area\", \"water__unit_flux_in\"][0],\n",
    "              \"erode_flooded_nodes\": False},\n",
    "         SpaceLargeScaleEroder: \\\n",
    "             {\"K_sed\": 1e-5,\n",
    "                \"K_br\": 1e-5,\n",
    "                \"F_f\": 0.0, # 1.0: all sediment exported out of the grid. (soil__depth = 0) : PB: sediment fluxes become null!\n",
    "                \"phi\": 0.0,\n",
    "                \"H_star\": 1.0,\n",
    "                \"v_s\": 5.0,\n",
    "                \"m_sp\": 1.,\n",
    "                \"n_sp\": 2.,\n",
    "                \"sp_crit_sed\": 0,\n",
    "                \"sp_crit_br\": 0},\n",
    "         CosmogenicProductionScaler: \\\n",
    "             {\"path_prefix\": {\"config\": \"\", \"data\": \"\"}\n",
    "             },\n",
    "         CosmogenicProducerInBedrock: \\\n",
    "             {\"system\": {\"nuclide\":\"Be10\", \"mineral\": \"quartz\"},\n",
    "             \"init_condition\": {\"steady_state_cosmogenic_production\":True},\n",
    "             \"path_prefix\": {\"config\": \"\", \"data\": \"\"}}\n",
    "        }\n",
    "\n",
    "# Array to save sediment flux, relief values, and average concentrations\n",
    "sediment_flux_over_time = np.zeros(n_dt + 1) # in m^3/y \n",
    "relief_over_time = np.zeros(n_dt + 1) # in m\n",
    "cosmogenic_concentration_over_time = np.zeros(n_dt + 1) # in atom/g, average over the grid\n",
    "\n",
    "# 1.2. Grid instantiation and boundaries\n",
    "########################################\n",
    "\n",
    "myGrid = model_grid(**grid_param)\n",
    "nodes_n = myGrid.number_of_nodes\n",
    "boundary_nodes = myGrid.boundary_nodes\n",
    "\n",
    "#uplift_rate = 0.001 # uplift rate in m/y\n",
    "x = myGrid.x_of_node\n",
    "summit_x = round(n / 3)\n",
    "uplift_rate = (\n",
    "    if x <= summit_x:\n",
    "        x / summit_x * 0.001\n",
    "    else\n",
    "        (n - summit_x) * 0.001\n",
    "\n",
    "# Closed or open boundaries\n",
    "#if model_grid != NetworkModelGrid\n",
    "\"\"\"one_node = myGrid.boundary_nodes[np.random.randint(len(myGrid.boundary_nodes))]\n",
    "if closed_nodes == \"one\":\n",
    "    myGrid.status_at_node[one_node] = myGrid.BC_NODE_IS_CLOSED\n",
    "else:\n",
    "    myGrid.status_at_node[myGrid.boundary_nodes] = myGrid.BC_NODE_IS_CLOSED\n",
    "    myGrid.status_at_node[one_node] = myGrid.BC_NODE_IS_FIXED_VALUE\"\"\"\n",
    "\n",
    "# 1.3. Topographic elevation\n",
    "############################\n",
    "if model_grid == NetworkModelGrid:\n",
    "    myGrid.at_node[\"topographic__elevation\"] = [0.0, 0.08, 0.25, 0.15, 0.25, 0.4, 0.8, 0.8]\n",
    "    myGrid.add_field(\"cell_area_at_node\", np.full(shape=nodes_n, fill_value=1.0), at=\"node\")\n",
    "else:\n",
    "    # add topographic roughness\n",
    "    random_noise = random_topography = random_generator.random(nodes_n)  # impose topography values on model grid\n",
    "    z = myGrid.add_field(\"topographic__elevation\", random_noise, at=\"node\")\n",
    "    z[boundary_nodes] = 0 # all boundary nodes as base-level\n",
    "    #z[12] = 0.5\n",
    "    \"\"\"z[:] = np.array([5,2,1,4,1,\n",
    "    1,4,2,5,2,\n",
    "    2,1,2,1,3,\n",
    "    1,3,4,1,4,\n",
    "    3,1,2,2,3]\n",
    "    )\"\"\"\n",
    "\n",
    "# 1.4. Other fields\n",
    "###################\n",
    "myGrid.add_field('denudation_rate_bedrock_mm_y', denudation_rate_bedrock_mm_y * np.ones(myGrid.number_of_nodes))\n",
    "s = myGrid.add_zeros(\"soil__depth\", at=\"node\", dtype=float)\n",
    "br =myGrid.add_field(\"bedrock__elevation\", z + s, at=\"node\", dtype=float, copy=True)\n",
    "\n",
    "# 1.5 Display\n",
    "#############\n",
    "font = {'family' : 'sans-serif',\n",
    "        'weight' : 'normal',\n",
    "        'size'   : font_size}\n",
    "mpl.rc('font', **font)\n",
    "\n",
    "# 1.5. Grid display\n",
    "###################\n",
    "show_elements = True if nodes_n < 50 else False\n",
    "if model_grid != NetworkModelGrid and 1 != 1: # imshow_grid doesn't work for NetworkModelGrid\n",
    "    #imshow_grid(myGrid, myGrid.nodes, cmap =\"terrain\",\n",
    "    #            grid_units=(\"m\", \"m\"), var_name=\"Node id\", show_elements=show_elements) #, show_elements=True)\n",
    "    #plt.show()\n",
    "    imshow_grid(myGrid, 'topographic__elevation', cmap =\"terrain\",\n",
    "                grid_units=(\"m\", \"m\"), var_name=\"Elevation (m)\", show_elements=show_elements,\n",
    "               limits=(0, 10)) #, show_elements=True)\n",
    "    plt.show()\n",
    "\n",
    "#from landlab.plot import graph\n",
    "#if n < 11: graph.plot_graph(myGrid, at=\"node,link\")"
   ]
  },
  {
   "cell_type": "markdown",
   "id": "a8302105-73b3-47aa-b900-5efa31391d24",
   "metadata": {
    "tags": []
   },
   "source": [
    "We then may add the fields to the grid which can be used by the component. "
   ]
  },
  {
   "cell_type": "code",
   "execution_count": 2,
   "id": "84ca5090-61d3-4892-8c77-cad43dd3937d",
   "metadata": {
    "tags": []
   },
   "outputs": [
    {
     "data": {
      "text/plain": [
       "''"
      ]
     },
     "execution_count": 2,
     "metadata": {},
     "output_type": "execute_result"
    }
   ],
   "source": [
    "#s = myGrid.add_zeros(\"soil__depth\", at=\"node\", dtype=float, clobber=True)\n",
    "#br =myGrid.add_field(\"bedrock__elevation\", z + s, at=\"node\", dtype=float, clobber=True, copy=True)\n",
    "''"
   ]
  },
  {
   "cell_type": "markdown",
   "id": "d0881684-f958-4489-8b89-a40c5bdb7b54",
   "metadata": {
    "jupyter": {
     "source_hidden": true
    },
    "tags": []
   },
   "source": [
    "# Instanciation of the components that carry out landscape evolution.\n",
    "\n",
    "Hypothesis: we start from steady state flat landscape, eroding close to zero. The component automatically generate steady state concentrations."
   ]
  },
  {
   "cell_type": "code",
   "execution_count": 182,
   "id": "6ccb9a31-5f49-4f88-a187-ce81a718cc21",
   "metadata": {},
   "outputs": [],
   "source": [
    "# 2. Instanciations of the landscape evolution model and cosmogenic production\n",
    "##############################################################################\n",
    "router = FlowRouter(myGrid, **param[FlowRouter])\n",
    "#router = PriorityFloodFlowRouter(myGrid)\n",
    "landslider = ThresholdEroder(myGrid, **param[ThresholdEroder])\n",
    "inciser = SpaceLargeScaleEroder(myGrid, **param[SpaceLargeScaleEroder])\n",
    "#inciser = StreamPowerEroder(myGrid, **param[StreamPowerEroder])\n",
    "\n",
    "cosmo_scaler = CosmogenicProductionScaler(myGrid, **param[CosmogenicProductionScaler])\n",
    "cosmo_scaler.prepare_first_run()\n",
    "cosmo_scaler.run_one_step(dt)\n",
    "cosmo_producer = CosmogenicProducerInBedrock(myGrid, **param[CosmogenicProducerInBedrock])\n",
    "cosmo_producer.prepare_first_run(cosmo_scaler)\n",
    "myGrid.add_field(\"thickness_cover_m\", np.zeros(nodes_n), at=\"node\", clobber=True) # TO REMOVE AFTER CLEANING OF CLASS COSMO PRODUCER\n",
    "\n",
    "sediment_flux_over_time[0] = 0\n",
    "relief_over_time[0] = np.max(z) - np.min(z)\n",
    "cosmogenic_concentration_over_time[0] = np.mean(myGrid.at_node[\"concentration_Be10_quartz_top_bedrock_atom_g\"])"
   ]
  },
  {
   "cell_type": "code",
   "execution_count": null,
   "id": "b55e84ef-c895-4382-81b6-0bb44a2a37ad",
   "metadata": {
    "jupyter": {
     "source_hidden": true
    },
    "tags": []
   },
   "outputs": [],
   "source": [
    "if model_grid != NetworkModelGrid and 1 == 1: # imshow_grid doesn't work for NetworkModelGrid\n",
    "    show_elements = True if nodes_n < 50 else False\n",
    "    #imshow_grid(myGrid, myGrid.nodes, cmap =\"terrain\",\n",
    "    #            grid_units=(\"m\", \"m\"), var_name=\"Node id\", show_elements=show_elements) #, show_elements=True)\n",
    "    #plt.show()\n",
    "    imshow_grid(myGrid, 'topographic__elevation', cmap =\"terrain\",\n",
    "                grid_units=(\"m\", \"m\"), var_name=\"Elevation (m)\", show_elements=show_elements) #, show_elements=True)\n",
    "    plt.show()\n",
    "    imshow_grid(myGrid, 'concentration_Be10_quartz_top_bedrock_atom_g', cmap =\"terrain\",\n",
    "                grid_units=(\"m\", \"m\"), var_name=\"concentration Be10 quartz (atom/g)\", show_elements=show_elements) #, show_elements=True)\n",
    "    plt.show()\n",
    "    imshow_grid(myGrid, 'denudation_rate_bedrock_mm_y', cmap =\"terrain\",\n",
    "                    grid_units=(\"m\", \"m\"), var_name=\"denudation rate bedrock (mm/y)\", show_elements=show_elements) #, show_elements=True)\n",
    "    plt.show()"
   ]
  },
  {
   "cell_type": "code",
   "execution_count": null,
   "id": "5809479a-7c00-4be1-912f-dcfe36b3250d",
   "metadata": {
    "jupyter": {
     "source_hidden": true
    },
    "tags": []
   },
   "outputs": [],
   "source": [
    "#myGrid.at_node.dataset"
   ]
  },
  {
   "cell_type": "code",
   "execution_count": 116,
   "id": "a39d6565-c16c-4662-afcc-3eb2182df37e",
   "metadata": {
    "jupyter": {
     "source_hidden": true
    },
    "tags": []
   },
   "outputs": [],
   "source": [
    "z[myGrid.core_nodes] += uplift_rate * dt\n"
   ]
  },
  {
   "cell_type": "code",
   "execution_count": null,
   "id": "ecfc1246-ca4d-459d-8b0e-6dccf7c4bb94",
   "metadata": {
    "jupyter": {
     "source_hidden": true
    },
    "tags": []
   },
   "outputs": [],
   "source": [
    "mg = RasterModelGrid((5, 5))\n",
    "mg.set_closed_boundaries_at_grid_edges(False, False, False, False)\n",
    "z = np.array(\n",
    "    [\n",
    "        [0., 0., 0., 0., 0.]\n",
    "       + [0., 1., 1., 1., 0.]\n",
    "       + [0., 1., 10., 1., 0.]\n",
    "        + [0., 1., 1., 1., 0.]\n",
    "       + [0., 0., 0., 0., 0.]\n",
    "    ]\n",
    ")\n",
    "z = mg.add_field(\"topographic__elevation\", z, at=\"node\")\n",
    "imshow_grid(mg, 'topographic__elevation', cmap =\"terrain\",\n",
    "                grid_units=(\"m\", \"m\"), var_name=\"Elevation (m)\", show_elements=show_elements,\n",
    "                limits=(0, 10))\n",
    "plt.show()"
   ]
  },
  {
   "cell_type": "code",
   "execution_count": 107,
   "id": "2f0bfd5a-e103-40e4-84d1-bba83576f65f",
   "metadata": {
    "jupyter": {
     "source_hidden": true
    },
    "tags": []
   },
   "outputs": [],
   "source": [
    "#mg = myGrid\n",
    "z[mg.core_nodes] += 0.001 * dt\n",
    "fdir = FlowRouter(mg)\n",
    "th_ero = ThresholdEroder(mg, slope_crit=0.6)\n",
    "for t in range(2):\n",
    "    fdir.run_flow_directions()\n",
    "    fdir.run_flow_accumulations()\n",
    "    th_ero.run_one_step()"
   ]
  },
  {
   "cell_type": "code",
   "execution_count": null,
   "id": "b39d643d-f101-42ab-8762-fdd75614e5a3",
   "metadata": {
    "jupyter": {
     "source_hidden": true
    },
    "tags": []
   },
   "outputs": [],
   "source": [
    "imshow_grid(mg, 'topographic__elevation', cmap =\"terrain\",\n",
    "                grid_units=(\"m\", \"m\"), var_name=\"Elevation (m)\", show_elements=show_elements,\n",
    "                limits=(0, 10))\n",
    "plt.show()"
   ]
  },
  {
   "cell_type": "code",
   "execution_count": 183,
   "id": "84a6f4ca-10a0-43c6-a047-0650569f370e",
   "metadata": {
    "tags": []
   },
   "outputs": [
    {
     "name": "stdout",
     "output_type": "stream",
     "text": [
      "[ 0.          0.          0.          0.          0.          0.\n",
      "  0.          0.          0.          0.          0.44214554  0.89695158\n",
      "  0.5570242   0.52864422  0.27598204  0.87486219  0.25919925  0.\n",
      "  0.          0.43132051  0.34973219  0.51601699  0.36904262  0.47215378\n",
      "  0.19359948  0.24961119  0.          0.          0.48779288  0.63942244\n",
      "  0.9379636   0.82956436  0.63588529  0.61180013  0.94148359  0.\n",
      "  0.          0.49529855  0.84738928  0.86683819  0.277924    0.09241115\n",
      "  0.39955667  0.31962044  0.          0.          0.82113404  0.6514878\n",
      "  0.10257211  0.33304829  0.46878042  0.94367454  0.10349548  0.\n",
      "  0.          0.20650179  0.56293664  0.94464691  0.49371532  0.05726163\n",
      "  0.73371816  0.02202677  0.          0.          0.23133586  0.85003039\n",
      "  0.79186458  0.11007164  0.50260693  0.09372805  0.12160004  0.\n",
      "  0.          0.          0.          0.          0.          0.\n",
      "  0.          0.          0.        ]\n",
      "[ 0.          0.          0.          0.          0.          0.\n",
      "  0.          0.          0.          0.          1.44214554  1.89695158\n",
      "  1.5570242   1.52864422  1.27598204  1.87486219  1.25919925  0.\n",
      "  0.          1.43132051  1.34973219  1.51601699  1.36904262  1.47215378\n",
      "  1.19359948  1.24961119  0.          0.          1.48779288  1.63942244\n",
      "  1.9379636   1.82956436  1.63588529  1.61180013  1.94148359  0.\n",
      "  0.          1.49529855  1.84738928  1.86683819  1.277924    1.09241115\n",
      "  1.39955667  1.31962044  0.          0.          1.82113404  1.6514878\n",
      "  1.10257211  1.33304829  1.46878042  1.94367454  1.10349548  0.\n",
      "  0.          1.20650179  1.56293664  1.94464691  1.49371532  1.05726163\n",
      "  1.73371816  1.02202677  0.          0.          1.23133586  1.85003039\n",
      "  1.79186458  1.11007164  1.50260693  1.09372805  1.12160004  0.\n",
      "  0.          0.          0.          0.          0.          0.\n",
      "  0.          0.          0.        ]\n",
      "[ 0.          0.          0.          0.          0.          0.\n",
      "  0.          0.          0.          0.          1.44214554  1.89695158\n",
      "  1.5570242   1.52864422  1.27598204  1.87486219  1.25919925  0.\n",
      "  0.          1.43132051  1.34973219  1.51601699  1.36904262  1.47215378\n",
      "  1.19359948  1.24961119  0.          0.          1.48779288  1.63942244\n",
      "  1.9379636   1.82956436  1.63588529  1.61180013  1.94148359  0.\n",
      "  0.          1.49529855  1.84738928  1.86683819  1.277924    1.09241115\n",
      "  1.39955667  1.31962044  0.          0.          1.82113404  1.6514878\n",
      "  1.10257211  1.33304829  1.46878042  1.94367454  1.10349548  0.\n",
      "  0.          1.20650179  1.56293664  1.94464691  1.49371532  1.05726163\n",
      "  1.73371816  1.02202677  0.          0.          1.23133586  1.85003039\n",
      "  1.79186458  1.11007164  1.50260693  1.09372805  1.12160004  0.\n",
      "  0.          0.          0.          0.          0.          0.\n",
      "  0.          0.          0.        ]\n",
      "[ 0.          0.          0.          0.          0.          0.\n",
      "  0.          0.          0.          0.          1.44214554  1.89695158\n",
      "  1.5570242   1.52864422  1.27598204  1.87486219  1.25919925  0.\n",
      "  0.          1.43132051  1.34973219  1.51601699  1.36904262  1.47215378\n",
      "  1.19359948  1.24961119  0.          0.          1.48779288  1.63942244\n",
      "  1.9379636   1.82956436  1.63588529  1.61180013  1.94148359  0.\n",
      "  0.          1.49529855  1.84738928  1.86683819  1.277924    1.09241115\n",
      "  1.39955667  1.31962044  0.          0.          1.82113404  1.6514878\n",
      "  1.10257211  1.33304829  1.46878042  1.94367454  1.10349548  0.\n",
      "  0.          1.20650179  1.56293664  1.94464691  1.49371532  1.05726163\n",
      "  1.73371816  1.02202677  0.          0.          1.23133586  1.85003039\n",
      "  1.79186458  1.11007164  1.50260693  1.09372805  1.12160004  0.\n",
      "  0.          0.          0.          0.          0.          0.\n",
      "  0.          0.          0.        ]\n"
     ]
    }
   ],
   "source": [
    "# 3. First Run\n",
    "##############\n",
    "# Uplift\n",
    "z[myGrid.core_nodes] += uplift_rate * dt\n",
    "z_old = myGrid.at_node[\"topographic__elevation\"].copy()\n",
    "\n",
    "t0 = time.time()\n",
    "router.run_flow_directions()\n",
    "#print(time.time() - t0)\n",
    "t0 = time.time()\n",
    "router.run_flow_accumulations()\n",
    "#print(time.time() - t0)\n",
    "t0 = time.time()\n",
    "landslider.run_one_step();\n",
    "#print(time.time() - t0)\n",
    "t0 = time.time()\n",
    "inciser.run_one_step(dt); \n",
    "#print(time.time() - t0)\n",
    "\n",
    "z_new = myGrid.at_node[\"topographic__elevation\"]\n",
    "z_diff = z_old - z_new\n",
    "\n",
    "denudation_rate_bedrock_new = np.vectorize(lambda x:max(x, 1.e-9))(z_diff) / dt * 1e3\n",
    "myGrid.at_node[\"denudation_rate_bedrock_mm_y\"] = denudation_rate_bedrock_new\n",
    "\n",
    "#myGrid.at_node[\"denudation_rate_bedrock_mm_y\"][:]= 5000 / dt\n",
    "t0 = time.time()\n",
    "cosmo_scaler.run_one_step(dt)\n",
    "#print(time.time() - t0)\n",
    "t0 = time.time()\n",
    "cosmo_producer.run_one_step(dt)\n",
    "#print(time.time() - t0)\n",
    "\n",
    "sediment_flux_over_time[1] = np.sum(z_diff[myGrid.core_nodes] * myGrid.area_of_cell) / dt\n",
    "relief_over_time[1] = np.max(z_new) - np.min(z_new)\n",
    "cosmogenic_concentration_over_time[1] = np.mean(myGrid.at_node[\"concentration_Be10_quartz_top_bedrock_atom_g\"])"
   ]
  },
  {
   "cell_type": "code",
   "execution_count": 176,
   "id": "98f7a5ad-bf47-4b9d-8853-c5e8ec11f7bc",
   "metadata": {},
   "outputs": [
    {
     "data": {
      "text/plain": [
       "0.0"
      ]
     },
     "execution_count": 176,
     "metadata": {},
     "output_type": "execute_result"
    }
   ],
   "source": [
    "sediment_flux_over_time[1]"
   ]
  },
  {
   "cell_type": "code",
   "execution_count": 149,
   "id": "c112048d-2234-47ad-9051-81e94e4a1a22",
   "metadata": {},
   "outputs": [
    {
     "data": {
      "image/png": "[encoded data removed]",
      "text/plain": [
       "<Figure size 640x480 with 2 Axes>"
      ]
     },
     "metadata": {},
     "output_type": "display_data"
    }
   ],
   "source": [
    "imshow_grid(myGrid, 'topographic__elevation', cmap =\"terrain\",\n",
    "                grid_units=(\"m\", \"m\"), var_name=\"Elevation (m)\", show_elements=show_elements,\n",
    "           )#limits=(0, 100)) #, show_elements=True)\n",
    "plt.show()"
   ]
  },
  {
   "cell_type": "code",
   "execution_count": 184,
   "id": "9252877e-8667-482b-b553-4c322c2d3410",
   "metadata": {
    "tags": []
   },
   "outputs": [
    {
     "name": "stderr",
     "output_type": "stream",
     "text": [
      "100%|██████████| 998/998 [00:02<00:00, 334.19it/s]"
     ]
    },
    {
     "name": "stdout",
     "output_type": "stream",
     "text": [
      "2.988858938217163\n"
     ]
    },
    {
     "name": "stderr",
     "output_type": "stream",
     "text": [
      "\n"
     ]
    }
   ],
   "source": [
    "#run\n",
    "z = myGrid.at_node[\"topographic__elevation\"]\n",
    "t0 = time.time()\n",
    "\n",
    "for i in tqdm(range(2, n_dt)): # 2 and not 0, because 0 is initial situation and we already have a 1st run\n",
    "   # Uplift\n",
    "    z[myGrid.core_nodes] += uplift_rate * dt\n",
    "    z_old = myGrid.at_node[\"topographic__elevation\"].copy()\n",
    "\n",
    "    router.run_one_step()\n",
    "    landslider.run_one_step()\n",
    "    inciser.run_one_step(dt)\n",
    "\n",
    "    z_new = myGrid.at_node[\"topographic__elevation\"]\n",
    "    z_diff = z_old - z_new\n",
    "\n",
    "    denudation_rate_bedrock_new = np.vectorize(lambda x:max(x, 1.e-9))(z_diff) / dt * 1e3\n",
    "    myGrid.at_node[\"denudation_rate_bedrock_mm_y\"] = denudation_rate_bedrock_new\n",
    "\n",
    "    #myGrid.at_node[\"denudation_rate_bedrock_mm_y\"][:]= 5000 / dt\n",
    "    cosmo_scaler.run_one_step(dt)\n",
    "    cosmo_producer.run_one_step(dt)\n",
    "\n",
    "    sediment_flux_over_time[i] = np.sum(z_diff[myGrid.core_nodes] * myGrid.area_of_cell) / dt\n",
    "    relief_over_time[i] = np.max(z_new) - np.min(z_new)\n",
    "    cosmogenic_concentration_over_time[i] = np.mean(myGrid.at_node[\"concentration_Be10_quartz_top_bedrock_atom_g\"])\n",
    "    \n",
    "print(time.time() - t0)\n",
    "# STRANGE BEHAVIOUS for sediment__influx and sediment__outflux, sediment_influx cannot be mapped with imshow_grid"
   ]
  },
  {
   "cell_type": "code",
   "execution_count": 185,
   "id": "2e82d3fa-2c67-497f-b475-3a2da873d484",
   "metadata": {},
   "outputs": [
    {
     "data": {
      "image/png": "[encoded data removed]",
      "text/plain": [
       "<Figure size 640x480 with 2 Axes>"
      ]
     },
     "metadata": {},
     "output_type": "display_data"
    },
    {
     "data": {
      "image/png": "[encoded data removed]",
      "text/plain": [
       "<Figure size 640x480 with 2 Axes>"
      ]
     },
     "metadata": {},
     "output_type": "display_data"
    },
    {
     "data": {
      "image/png": "[encoded data removed]",
      "text/plain": [
       "<Figure size 640x480 with 2 Axes>"
      ]
     },
     "metadata": {},
     "output_type": "display_data"
    }
   ],
   "source": [
    "#drainage_plot(myGrid)\n",
    "#plt.show()\n",
    "myGrid.at_node[\"concentration_Be10_quartz_top_bedrock_atom_g\"][myGrid.boundary_nodes] = 0\n",
    "\n",
    "#imshow_grid(myGrid, myGrid.nodes, cmap =\"terrain\",\n",
    "#                grid_units=(\"m\", \"m\"), var_name=\"Node ids\", show_elements=show_elements) #, show_elements=True)\n",
    "#plt.show()\n",
    "#graph.plot_graph(myGrid, at=\"node\")\n",
    "\n",
    "imshow_grid(myGrid, 'topographic__elevation', cmap =\"terrain\",\n",
    "                grid_units=(\"m\", \"m\"), var_name=\"Elevation (m)\", show_elements=show_elements,)\n",
    "                #limits=(0, 10)) #, show_elements=True)\n",
    "plt.show()\n",
    "imshow_grid(myGrid, 'concentration_Be10_quartz_top_bedrock_atom_g', cmap =\"terrain\",\n",
    "                grid_units=(\"m\", \"m\"), var_name=\"concentration Be10 quartz (atom/g)\", show_elements=show_elements) #, show_elements=True)\n",
    "plt.show()\n",
    "imshow_grid(myGrid, 'denudation_rate_bedrock_mm_y', cmap =\"terrain\",\n",
    "                grid_units=(\"m\", \"m\"), var_name=\"denudation rate bedrock (mm/y)\", show_elements=show_elements) #, show_elements=True)\n",
    "plt.show()\n",
    "#print(myGrid.at_node[\"concentration_Be10_quartz_top_bedrock_atom_g\"])\n",
    "#print(myGrid.at_node[\"denudation_rate_bedrock_mm_y\"])\n",
    "#print(myGrid.perimeter_nodes)"
   ]
  },
  {
   "cell_type": "code",
   "execution_count": 186,
   "id": "46a7a6eb-d123-4bcc-8ddf-f15ef4682bfd",
   "metadata": {},
   "outputs": [
    {
     "data": {
      "text/plain": [
       "Text(0, 0.5, 'Mean Be10 concentration [log atom/g]')"
      ]
     },
     "execution_count": 186,
     "metadata": {},
     "output_type": "execute_result"
    },
    {
     "data": {
      "image/png": "[encoded data removed]",
      "text/plain": [
       "<Figure size 640x480 with 1 Axes>"
      ]
     },
     "metadata": {},
     "output_type": "display_data"
    },
    {
     "data": {
      "image/png": "[encoded data removed]",
      "text/plain": [
       "<Figure size 640x480 with 1 Axes>"
      ]
     },
     "metadata": {},
     "output_type": "display_data"
    },
    {
     "data": {
      "image/png": "[encoded data removed]",
      "text/plain": [
       "<Figure size 640x480 with 1 Axes>"
      ]
     },
     "metadata": {},
     "output_type": "display_data"
    }
   ],
   "source": [
    "\"\"\"plt.figure()\n",
    "# Instantiate subplot\n",
    "sedfluxplot = plt.subplot()\n",
    "# Plot data\n",
    "sedfluxplot.plot(dt * np.arange(n_dt), sediment_flux_over_time, color=\"k\", linewidth=3.0)\n",
    "\n",
    "# Add axis labels\n",
    "sedfluxplot.set_xlabel(\"Time [y]\")\n",
    "sedfluxplot.set_ylabel(r\"Sediment flux [m$^3$/y]\")\n",
    "plt.show()\"\"\"\n",
    "\n",
    "plt.figure()\n",
    "plt.plot(dt * np.arange(n_dt + 1), sediment_flux_over_time, color=\"k\", linewidth=3.0)\n",
    "plt.xlabel(\"Time [y]\")\n",
    "plt.ylabel(\"Sediment flux [m^3/y]\")\n",
    "\n",
    "plt.figure()\n",
    "plt.plot(dt * np.arange(n_dt + 1), relief_over_time, color=\"k\", linewidth=3.0)\n",
    "plt.xlabel(\"Time [y]\")\n",
    "plt.ylabel(\"Relief [m]\")\n",
    "\n",
    "plt.figure()\n",
    "plt.plot(dt * np.arange(n_dt + 1), cosmogenic_concentration_over_time, color=\"k\", linewidth=3.0)\n",
    "plt.xlabel(\"Time [y]\")\n",
    "plt.ylabel(\"Mean Be10 concentration [log atom/g]\") # TODO: prevent log?\n",
    "#plt.yscale(\"log\")\n",
    "#plt.ylim([0, 5.e6])"
   ]
  },
  {
   "cell_type": "markdown",
   "id": "dd93ec3f-c9bd-41ae-b351-f4844491f83d",
   "metadata": {},
   "source": [
    "Relief and Sedimentograph\n",
    "relief is difference between lowest (here always zero) and highest"
   ]
  },
  {
   "cell_type": "markdown",
   "id": "e47fbf0a-c5fa-4dbc-8a72-c4f16046fb55",
   "metadata": {},
   "source": [
    "***(b)*** I want to change some default values that will be used for grid fields. To do this, edit the config files."
   ]
  },
  {
   "cell_type": "markdown",
   "id": "8847a892-4696-459c-86d2-6d96018fa144",
   "metadata": {},
   "source": [
    "***(c)*** The grid has already some fields defined at nodes or if not, I want to define the field values at the node level. In that case, the component will override the config files and take the values of the grid fields."
   ]
  },
  {
   "cell_type": "markdown",
   "id": "30ed7b47-b765-4f8e-a1aa-74285aff2a9f",
   "metadata": {},
   "source": [
    "### 1.2. Instantiate the Cosmogenic Production Scaler and first run.\n",
    "The Cosmogenic Production Scaler yields local scaling factors associated with the nodes of the grid, computing following scaling models (See Cosmogenic scaling landlab.ipynb notebook).\n",
    "\n",
    "We also run a first time the Scaler, because the Cosmogenic Producer preparation for first run needs scaling to calculate steady-state concentrations (CLARIFY)."
   ]
  },
  {
   "cell_type": "markdown",
   "id": "281d456a-8cad-4c3a-99c0-e1762a824960",
   "metadata": {},
   "source": [
    "### 1.3. Instantiate and run the Bedrock Cosmogenic Producer.\n",
    "The Bedrock Cosmogenic Producer takes into account a specific nuclide, and will work as a function of selected production pathways and a production model (necessary for muons)."
   ]
  },
  {
   "cell_type": "markdown",
   "id": "b9d76e4c-1fe1-4245-bbda-d5c1b7a5b1c0",
   "metadata": {},
   "source": [
    "### 1.4. First run of the Bedrock Cosmogenic Producer."
   ]
  },
  {
   "cell_type": "markdown",
   "id": "4e7f37de-c2e7-48d9-8662-d329a10589fb",
   "metadata": {},
   "source": [
    "Visualization of updated top bedrock concentrations"
   ]
  },
  {
   "cell_type": "markdown",
   "id": "060d91d4-a2a7-4409-b9a9-6619804fb994",
   "metadata": {},
   "source": [
    "### 1.5. Following runs of the Bedrock Cosmogenic Producer.\n",
    "When elevation does not vary a lot over the period of simulation, we can avoid running again the cosmogenic production scaler."
   ]
  },
  {
   "cell_type": "markdown",
   "id": "04f32100-64ab-48a7-8f20-65fd6da56f63",
   "metadata": {},
   "source": [
    "#### Equations\n",
    "**(a) For neutron pathway.**\n",
    "\n",
    "in Lal, 1991.\n",
    "\n",
    "For a flat geometry target exposed with its surface horizontally, the production rate of a radionuclide, P (atoms/g) varies with depth, z (cm): \n",
    "\n",
    "$ P(z) = P(0)\\ e^{-\\rho z/\\Lambda} \\quad (2) $\n",
    "\n",
    "$ P(z) = P(0)\\,e^{-\\mu z} \\quad (2') $\n",
    "\n",
    "where $\\rho$ is the mean density of the target rock (g/cm -3) and $\\Lambda$ is the absorption mean free path for nuclear interacting particles in the target (g/cm^2) of density $\\rho$ (g/cm^3). P(0) is the production rate of the radionuclide at the target surface. In equation (2'), the symbol $\\mu$ is defined as the absorption coefficient (cm^-1) in the target: $\\mu=\\rho/\\Lambda$. \n",
    "\n",
    "The number of atoms of the radionuclide within the rock at any depth, z, N(z,t) is given by the differential equation: \n",
    "\n",
    "$\\frac{\\partial U(z,t)}{\\partial t} = -N(z,t)\\ \\Lambda + P(z,t)  \\quad (3)$\n",
    "\n",
    "with $ P(z,t) = P(0,t)\\,e^{-\\mu z(t)} \\quad (4) $ \n",
    "\n",
    "The erosion rate $\\epsilon(t)$, defines the values of z(t) according to the equation: \n",
    "$x(t) = \\int_{0}^{1}\\epsilon(t)dt + const$. \n",
    "\n",
    "If $\\epsilon(t) = const = \\epsilon$ and $P(z, t) = P(z)$ does not vary with time,\n",
    "then we obtain from (3) the equation:\n",
    "\n",
    "$N(x,t) = N(x,0) e^{-\\lambda t} + \\frac{P(0)}{\\lambda + \\mu\\epsilon} \\ e^{-\\mu z}(1 - e^{-(\\lambda + \\mu\\epsilon)t}) \\quad (6)$\n",
    "\n",
    "where N(z,0) is the initial number of atoms/g in the rock surface now at depth z."
   ]
  },
  {
   "cell_type": "markdown",
   "id": "33745de2-d4bd-427c-859d-feae4f2ed82b",
   "metadata": {},
   "source": [
    "$\\frac{P(0)}{\\lambda + \\mu\\epsilon}$"
   ]
  },
  {
   "cell_type": "markdown",
   "id": "a3658e68-8c3a-4e6e-91c6-fca8eed5ab9d",
   "metadata": {},
   "source": [
    "- simplest: grid with production rate and concentrations\n",
    "- burial under thick cover/production\n"
   ]
  },
  {
   "cell_type": "code",
   "execution_count": 51,
   "id": "64d1c94b-c994-46f4-ae0a-2a0862f8c719",
   "metadata": {},
   "outputs": [],
   "source": []
  }
 ],
 "metadata": {
  "kernelspec": {
   "display_name": "Develop",
   "language": "python",
   "name": "dev"
  },
  "language_info": {
   "codemirror_mode": {
    "name": "ipython",
    "version": 3
   },
   "file_extension": ".py",
   "mimetype": "text/x-python",
   "name": "python",
   "nbconvert_exporter": "python",
   "pygments_lexer": "ipython3",
   "version": "3.10.6"
  }
 },
 "nbformat": 4,
 "nbformat_minor": 5
}
